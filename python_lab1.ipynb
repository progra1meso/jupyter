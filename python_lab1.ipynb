{
  "metadata": {
    "language_info": {
      "codemirror_mode": {
        "name": "python",
        "version": 3
      },
      "file_extension": ".py",
      "mimetype": "text/x-python",
      "name": "python",
      "nbconvert_exporter": "python",
      "pygments_lexer": "ipython3",
      "version": "3.8"
    },
    "kernelspec": {
      "name": "python",
      "display_name": "Pyolite",
      "language": "python"
    }
  },
  "nbformat_minor": 4,
  "nbformat": 4,
  "cells": [
    {
      "cell_type": "markdown",
      "source": "![Image of Yaktocat](https://www.mesoamericana.edu.gt/wp-content/uploads/2019/01/logo-meso-png.png)\n# Programación I\n## Laboratorio 1 Python1\n**Instrucciones**: Ejecute cada uno de los siguientes ejemplos y realice los ejercicios indicados",
      "metadata": {}
    },
    {
      "cell_type": "markdown",
      "source": "## Declaración de Variables",
      "metadata": {}
    },
    {
      "cell_type": "markdown",
      "source": "En python el programador no requiere especificar el tipo de una variable.  No existe una regla para declarar variables, simplemente una variable se crea desde el momento en que se le asigna un valor.   La asignación de las variables puede realizarse también de manera múltiple.",
      "metadata": {}
    },
    {
      "cell_type": "markdown",
      "source": "Dos variables asignadas por separado",
      "metadata": {}
    },
    {
      "cell_type": "code",
      "source": "x=25\ny=12.25\nprint(x)\nprint(y)",
      "metadata": {},
      "execution_count": null,
      "outputs": []
    },
    {
      "cell_type": "markdown",
      "source": "Dos variables asignadas al mismo tiempo con un mismo valor",
      "metadata": {}
    },
    {
      "cell_type": "code",
      "source": "a=b=5\nprint(a)\nprint(b)",
      "metadata": {},
      "execution_count": null,
      "outputs": []
    },
    {
      "cell_type": "markdown",
      "source": "Dos variables asignadas al mismo tiempo con valores diferentes",
      "metadata": {}
    },
    {
      "cell_type": "code",
      "source": "i,j = 2,3\nprint(i)\nprint(j)",
      "metadata": {},
      "execution_count": null,
      "outputs": []
    },
    {
      "cell_type": "markdown",
      "source": "Una variable puede reutilizarse y almacenar un nuevo valor con nuevo tipo de dato\n",
      "metadata": {}
    },
    {
      "cell_type": "code",
      "source": "x=3.1415\nprint(x)\nx=\"Hola soy la misma variable con otro tipo de dato asignado\"\nprint(x)",
      "metadata": {},
      "execution_count": null,
      "outputs": []
    },
    {
      "cell_type": "markdown",
      "source": "Internamente python sabe que tipo de dato almacena una variable, y podemos saber el tipo utilizando la función type\n",
      "metadata": {}
    },
    {
      "cell_type": "code",
      "source": "print (type(x))",
      "metadata": {},
      "execution_count": null,
      "outputs": []
    },
    {
      "cell_type": "markdown",
      "source": "---",
      "metadata": {}
    },
    {
      "cell_type": "markdown",
      "source": "## Imprimir en Pantalla",
      "metadata": {}
    },
    {
      "cell_type": "markdown",
      "source": "Para imprimir en pantalla se utiliza la función print() la cual permite imprimir no solamente un valor, mas bien varios",
      "metadata": {}
    },
    {
      "cell_type": "markdown",
      "source": "imprimimos un valor",
      "metadata": {}
    },
    {
      "cell_type": "code",
      "source": "x = 25\nprint(x)",
      "metadata": {
        "trusted": true
      },
      "execution_count": null,
      "outputs": []
    },
    {
      "cell_type": "markdown",
      "source": "imprimimos 2 valores, una cadena y un entero",
      "metadata": {}
    },
    {
      "cell_type": "code",
      "source": "x = 50.25\nprint(\"El valor es: \",x)",
      "metadata": {
        "trusted": true
      },
      "execution_count": null,
      "outputs": []
    },
    {
      "cell_type": "markdown",
      "source": "Las cadenas se definen entre comillas dobles, sin embargo tambien es posible utilizar comillas simples, las cuales se prefieren en este curso.",
      "metadata": {}
    },
    {
      "cell_type": "code",
      "source": "x = 50.25\nprint('El valor es: ',x)",
      "metadata": {
        "trusted": true
      },
      "execution_count": null,
      "outputs": []
    },
    {
      "cell_type": "markdown",
      "source": "Podemos imprimir más de un valor al mismo tiempo en pantalla, separando por comas cada variable/valor",
      "metadata": {}
    },
    {
      "cell_type": "code",
      "source": "x = 25.63\ny = 12\nprint('El valor de x =', x, ' y el valor de y es: ',y)",
      "metadata": {
        "trusted": true
      },
      "execution_count": null,
      "outputs": []
    },
    {
      "cell_type": "markdown",
      "source": "## Ejercicios",
      "metadata": {}
    },
    {
      "cell_type": "markdown",
      "source": "Calcule el area de un rectangulo, para lo cual deberá declarar dos variables llamadas *largo* y *ancho*, en cada una de ellas asigne un valor diferente, multiplique ambas variables y guarde el valor en una tercera variable llamada total. Muestre en pantalla el valor de cada variable llamando una unica vez a la función print().",
      "metadata": {}
    },
    {
      "cell_type": "code",
      "source": "",
      "metadata": {},
      "execution_count": null,
      "outputs": []
    },
    {
      "cell_type": "markdown",
      "source": "Si el valor del radio de un circulo es 100, calcule su area y muestre el resultado en pantalla. \nNota:  Escriba el valor de pi directamente en el codigo con 4 decimales, mas adelante se indicará como utilizar la constante correspondiente.",
      "metadata": {}
    },
    {
      "cell_type": "code",
      "source": "",
      "metadata": {},
      "execution_count": null,
      "outputs": []
    }
  ]
}